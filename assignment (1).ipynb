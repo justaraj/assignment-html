{
  "cells": [
    {
      "cell_type": "markdown",
      "source": [
        "**Overview**\n",
        "\n",
        "This project involves creating a simple web application that generates an HTML resume from a LinkedIn PDF download using the OpenAI API. The goal is to automate the extraction and transformation of LinkedIn profile data into a structured HTML resume format.\n",
        "\n"
      ],
      "metadata": {
        "id": "n4jcoZ3g0DrN"
      }
    },
    {
      "cell_type": "markdown",
      "source": [
        "# **Running** on http://127.0.0.1:5000"
      ],
      "metadata": {
        "id": "mnm69flW3Bet"
      }
    },
    {
      "cell_type": "markdown",
      "source": [
        "**Requirements**\n",
        "\n",
        "Ensure you have the following packages installed:\n",
        "- Flask\n",
        "- PyPDF2\n",
        "- OpenAI\n"
      ],
      "metadata": {
        "id": "OHza4ElC0Lqv"
      }
    },
    {
      "cell_type": "code",
      "execution_count": null,
      "metadata": {
        "id": "JZkQrk5vN1BJ",
        "collapsed": true
      },
      "outputs": [],
      "source": [
        "!pip install PyPDF2 openai python-dotenv flask-ngrok\n"
      ]
    },
    {
      "cell_type": "code",
      "execution_count": null,
      "metadata": {
        "id": "xaGLh4On3P3Z",
        "collapsed": true
      },
      "outputs": [],
      "source": [
        "!wget https://bin.equinox.io/c/4VmDzA7iaHb/ngrok-stable-linux-amd64.zip\n",
        "!unzip ngrok-stable-linux-amd64.zip\n"
      ]
    },
    {
      "cell_type": "code",
      "execution_count": null,
      "metadata": {
        "id": "5Xb3_Urx3TbH"
      },
      "outputs": [],
      "source": [
        "# Replace <YOUR_NGROK_AUTH_TOKEN> with your token\n",
        "!./ngrok authtoken <2m4eS8lhcSyYPgwU1jOLKdJV51L_2k86o7HuJSheehAnpyuC2>\n"
      ]
    },
    {
      "cell_type": "markdown",
      "source": [
        "**Code for creating the application**\n",
        "\n",
        "Modify Your Flask App to Use Ngrok\n",
        "Update your Flask app to use flask-ngrok for public access:"
      ],
      "metadata": {
        "id": "eC0d4zeY02bj"
      }
    },
    {
      "cell_type": "code",
      "execution_count": null,
      "metadata": {
        "id": "xOEJJ-k2OSxN"
      },
      "outputs": [],
      "source": [
        "from flask import Flask, request, send_file\n",
        "from flask_ngrok import run_with_ngrok\n",
        "from PyPDF2 import PdfReader\n",
        "import openai\n",
        "from dotenv import load_dotenv\n",
        "from io import BytesIO\n",
        "import os\n",
        "\n",
        "# Load environment variables\n",
        "load_dotenv()\n",
        "\n",
        "app = Flask(__name__)\n",
        "run_with_ngrok(app)  # Enables ngrok when running the app\n",
        "\n",
        "# Your existing Flask app code goes here\n",
        "\n",
        "@app.route('/')\n",
        "def index():\n",
        "    return '''\n",
        "    <!DOCTYPE html>\n",
        "    <html lang=\"en\">\n",
        "    <head>\n",
        "        <meta charset=\"UTF-8\">\n",
        "        <meta name=\"viewport\" content=\"width=device-width, initial-scale=1.0\">\n",
        "        <title>PDF to HTML Resume Generator</title>\n",
        "        <style>\n",
        "            body {font-family: Arial, sans-serif; background-color: #f4f4f4; margin: 0; padding: 20px;}\n",
        "            .container {max-width: 600px; margin: 0 auto; padding: 20px; background-color: white;\n",
        "                        box-shadow: 0 0 10px rgba(0, 0, 0, 0.1); border-radius: 8px;}\n",
        "            h1 {text-align: center;}\n",
        "            label, input, button {width: 100%; margin-top: 10px; padding: 10px; font-size: 1rem;}\n",
        "            button {background-color: #007BFF; color: white; border: none; cursor: pointer;}\n",
        "            button:hover {background-color: #0056b3;}\n",
        "        </style>\n",
        "    </head>\n",
        "    <body>\n",
        "        <div class=\"container\">\n",
        "            <h1>Generate HTML Resume from LinkedIn PDF</h1>\n",
        "            <form action=\"/upload\" method=\"post\" enctype=\"multipart/form-data\">\n",
        "                <label for=\"api_key\">Enter OpenAI API Key:</label><br>\n",
        "                <input type=\"text\" id=\"api_key\" name=\"api_key\" required><br><br>\n",
        "\n",
        "                <label for=\"file\">Upload LinkedIn PDF Resume:</label><br>\n",
        "                <input type=\"file\" id=\"file\" name=\"file\" accept=\".pdf\" required><br><br>\n",
        "\n",
        "                <button type=\"submit\">Generate HTML Resume</button>\n",
        "            </form>\n",
        "        </div>\n",
        "    </body>\n",
        "    </html>\n",
        "    '''\n",
        "\n",
        "@app.route('/upload', methods=['POST'])\n",
        "def upload_file():\n",
        "    if 'file' not in request.files:\n",
        "        return \"No file uploaded\", 400\n",
        "\n",
        "    file = request.files['file']\n",
        "\n",
        "    if file.filename == '':\n",
        "        return \"No selected file\", 400\n",
        "\n",
        "    if file and file.filename.endswith('.pdf'):\n",
        "        pdf_reader = PdfReader(file)\n",
        "        pdf_text = \"\".join(page.extract_text() for page in pdf_reader.pages)\n",
        "\n",
        "        # Generate HTML from PDF text using OpenAI\n",
        "        openai_api_key = request.form['api_key']\n",
        "        html_resume = generate_html_resume(pdf_text, openai_api_key)\n",
        "\n",
        "        # Serve the HTML as a downloadable file\n",
        "        return serve_html_as_file(html_resume)\n",
        "\n",
        "    return \"Invalid file type\", 400\n",
        "\n",
        "def generate_html_resume(pdf_text, api_key):\n",
        "    openai.api_key = api_key\n",
        "\n",
        "    prompt = f\"Convert the following resume text into a well-structured HTML:\\n{pdf_text}\"\n",
        "\n",
        "    response = openai.Completion.create(\n",
        "        engine=\"text-davinci-004\",  # You can switch to GPT-4 when it's available\n",
        "        prompt=prompt,\n",
        "        max_tokens=3000\n",
        "    )\n",
        "\n",
        "    return response['choices'][0]['text']\n",
        "\n",
        "def serve_html_as_file(html_content):\n",
        "    output = BytesIO()\n",
        "    output.write(html_content.encode('utf-8'))\n",
        "    output.seek(0)\n",
        "\n",
        "    return send_file(output, as_attachment=True, download_name=\"resume.html\", mimetype='text/html')\n",
        "\n",
        "if __name__ == '__main__':\n",
        "    app.run()\n",
        "\n"
      ]
    },
    {
      "cell_type": "code",
      "execution_count": null,
      "metadata": {
        "id": "vlDTBDlF2bKt"
      },
      "outputs": [],
      "source": [
        "from flask_ngrok import run_with_ngrok\n",
        "\n",
        "app = Flask(__name__)\n",
        "run_with_ngrok(app)  # Start ngrok when app runs\n",
        "\n",
        "@app.route('/')\n",
        "def index():\n",
        "    return \"Flask App with Ngrok\"\n",
        "\n",
        "if __name__ == '__main__':\n",
        "    app.run()\n"
      ]
    },
    {
      "cell_type": "markdown",
      "source": [
        "# **Requirements**"
      ],
      "metadata": {
        "id": "tFsD97rE1Rwi"
      }
    },
    {
      "cell_type": "code",
      "source": [
        "requirements = \"\"\"\n",
        "Flask\n",
        "PyPDF2\n",
        "openai\n",
        "python-dotenv\n",
        "\"\"\"\n",
        "\n",
        "with open('requirements.txt', 'w') as f:\n",
        "    f.write(requirements)\n"
      ],
      "metadata": {
        "id": "6LgQZWzhkF2F"
      },
      "execution_count": 8,
      "outputs": []
    },
    {
      "cell_type": "code",
      "source": [
        "{\n",
        "  \"version\": 2,\n",
        "  \"builds\": [\n",
        "    { \"src\": \"app.py\", \"use\": \"@vercel/python\" }\n",
        "  ],\n",
        "  \"routes\": [\n",
        "    { \"src\": \"/(.*)\", \"dest\": \"app.py\" }\n",
        "  ]\n",
        "}\n"
      ],
      "metadata": {
        "colab": {
          "base_uri": "https://localhost:8080/"
        },
        "id": "_ly5QJL6kMcj",
        "outputId": "f5256cfe-3c1f-472a-982f-e7eddb3b0884"
      },
      "execution_count": 9,
      "outputs": [
        {
          "output_type": "execute_result",
          "data": {
            "text/plain": [
              "{'version': 2,\n",
              " 'builds': [{'src': 'app.py', 'use': '@vercel/python'}],\n",
              " 'routes': [{'src': '/(.*)', 'dest': 'app.py'}]}"
            ]
          },
          "metadata": {},
          "execution_count": 9
        }
      ]
    },
    {
      "cell_type": "code",
      "source": [
        "!apt-get install git\n"
      ],
      "metadata": {
        "id": "MWrYWrMXVD3G"
      },
      "execution_count": null,
      "outputs": []
    },
    {
      "cell_type": "code",
      "source": [
        "!git config --global user.name \"justaraj\"\n",
        "!git config --global user.email \"justaraj@kgpian.iitkgp.ac.in\"\n"
      ],
      "metadata": {
        "id": "qNkqE4PZVKLP"
      },
      "execution_count": 11,
      "outputs": []
    },
    {
      "cell_type": "code",
      "source": [
        "!rm -rf assignment-html\n"
      ],
      "metadata": {
        "id": "r3MwHrUGXWlx"
      },
      "execution_count": 12,
      "outputs": []
    },
    {
      "cell_type": "code",
      "source": [
        "!git clone https://github.com/justaraj/assignment-html.git\n",
        "%cd assignment-html\n",
        "\n"
      ],
      "metadata": {
        "id": "3R0MA7I6WdXS"
      },
      "execution_count": null,
      "outputs": []
    },
    {
      "cell_type": "code",
      "source": [
        "!pip freeze > requirements.txt\n"
      ],
      "metadata": {
        "id": "PWNiH7EolpjR"
      },
      "execution_count": 14,
      "outputs": []
    },
    {
      "cell_type": "code",
      "source": [
        "from google.colab import files\n",
        "files.download('requirements.txt')\n"
      ],
      "metadata": {
        "id": "bEgcVPCwlssX"
      },
      "execution_count": null,
      "outputs": []
    },
    {
      "cell_type": "code",
      "source": [
        "app_code = \"\"\"\n",
        "from flask import Flask, request, jsonify\n",
        "\n",
        "app = Flask(__name__)\n",
        "\n",
        "@app.route('/')\n",
        "def home():\n",
        "    return \"Hello, World!\"\n",
        "\n",
        "@app.route('/echo', methods=['POST'])\n",
        "def echo():\n",
        "    data = request.json\n",
        "    return jsonify(data)\n",
        "\n",
        "if __name__ == '__main__':\n",
        "    app.run(host='0.0.0.0', port=5000)\n",
        "\"\"\"\n",
        "\n",
        "with open('app.py', 'w') as f:\n",
        "    f.write(app_code)\n"
      ],
      "metadata": {
        "id": "cjOP3NaLmGwW"
      },
      "execution_count": 16,
      "outputs": []
    },
    {
      "cell_type": "code",
      "source": [
        "files.download('app.py')\n"
      ],
      "metadata": {
        "id": "L4_OXAyomKXo"
      },
      "execution_count": null,
      "outputs": []
    },
    {
      "cell_type": "markdown",
      "source": [
        "# **Usage**\n",
        "Start the Flask application by running the script.\n",
        "Make a POST request to http://localhost:5000/generate_resume with a PDF file attached."
      ],
      "metadata": {
        "id": "ug175UK_2YEj"
      }
    },
    {
      "cell_type": "markdown",
      "source": [
        "# **Conclusion**\n",
        "This README provides the basic setup and usage instructions for the assignment. Ensure to replace 'YOUR_API_KEY' with your actual OpenAI API key."
      ],
      "metadata": {
        "id": "Yfzmd2jY3Qbc"
      }
    }
  ],
  "metadata": {
    "accelerator": "GPU",
    "colab": {
      "gpuType": "T4",
      "provenance": []
    },
    "kernelspec": {
      "display_name": "Python 3",
      "name": "python3"
    },
    "language_info": {
      "name": "python"
    }
  },
  "nbformat": 4,
  "nbformat_minor": 0
}